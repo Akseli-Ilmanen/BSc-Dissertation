{
 "cells": [
  {
   "attachments": {},
   "cell_type": "markdown",
   "id": "43b06059",
   "metadata": {},
   "source": [
    "<h1> 7. Get Time corpus 2 (For BERTopic) </h1>\n",
    "\n"
   ]
  },
  {
   "cell_type": "code",
   "execution_count": 1,
   "metadata": {},
   "outputs": [],
   "source": [
    "#imports\n",
    "import pandas as pd\n",
    "import pickle"
   ]
  },
  {
   "attachments": {},
   "cell_type": "markdown",
   "id": "79aa16e4",
   "metadata": {},
   "source": [
    "<h4> Data after Pre-Processing 1 and 2 </h4>\n",
    "\n",
    "Important variables: \n",
    "- df = Dataframe with all information about title, substance, class, url, text of each report\n",
    "- corpus_list = List of all the report texts concatenated "
   ]
  },
  {
   "cell_type": "code",
   "execution_count": 17,
   "id": "14b869a1",
   "metadata": {},
   "outputs": [],
   "source": [
    "df = pd.read_pickle(\"processed_data_2.pkl\")\n",
    "\n",
    "\n",
    "corpus_list = []\n",
    "for text in df.text:\n",
    "    corpus_list += text"
   ]
  },
  {
   "attachments": {},
   "cell_type": "markdown",
   "id": "74ddc872",
   "metadata": {},
   "source": [
    "<h4> Seed time perception words </h4>"
   ]
  },
  {
   "cell_type": "code",
   "execution_count": 3,
   "id": "5bc63b13",
   "metadata": {},
   "outputs": [],
   "source": [
    "ntp_words = ['time', 'period', 'periods', 'duration', 'clock', 'temporal', 'spacetime', 'timespan', 'timespans', 'timeline', 'timelines', 'elapse', 'elapsed', 'length', 'timewise', 'velocity', 'pace', 'rate', 'tempo', 'pass', 'passing', 'passed']\n",
    "ftp_words = ['quick','quicker', 'quickly', 'quickest', 'fast', 'faster', 'fastest', 'fastened', 'rapid','rapidly', 'short', 'shorter', 'shortly', 'shortest','speedy', 'speedy','speeded', 'speedier', 'hurry', 'hurried', 'swift', 'swifter', 'swiftly', 'haste', 'hasty', 'brisk', 'turbo', 'accelerate', 'acceleration', 'accelerated', 'accelerating']\n",
    "stp_words = ['slow', 'slower', 'slowly', 'slows', 'slowed', 'slowest', 'slowing', 'slowdown', 'long', 'looong', 'longer', 'longer', 'longest', 'steady', 'deceleration', 'decelerate', 'decelerating', 'decelerated', 'dilatory', 'dilation', 'infinity', 'eternity', 'lengthy', 'prolonged', 'protracted', 'extended', 'unending', 'endless']\n",
    "time_words = sorted(ntp_words + ftp_words + stp_words)\n"
   ]
  },
  {
   "attachments": {},
   "cell_type": "markdown",
   "id": "080c6065",
   "metadata": {},
   "source": [
    "<h4> Modified get context window (CW) function </h4>\n",
    "\n",
    "In some context windows, there are multiple time_words. E.g.:\n",
    "\n",
    "*\"(...)to my exceptional set and setting. later on in the future .god knows how long because time was passing so fast. i was talking to my friend t on the couch that i had yet to leave(...)\"*\n",
    "\n",
    "The modified get CW function skips over any seed words (time words), if those time words are in the context window after the intial seed word ('center_word')."
   ]
  },
  {
   "cell_type": "code",
   "execution_count": 4,
   "metadata": {},
   "outputs": [],
   "source": [
    "# Modified get context window function for time_words\n",
    "def modified_get_windows(words, C):\n",
    "    i = C\n",
    "    while i < len(words) - C:\n",
    "        center_word = words[i]\n",
    "        if center_word not in time_words:\n",
    "            i += 1\n",
    "            pass\n",
    "        else:\n",
    "            context_words = words[(i - C):i] + words[(i+1):(i+C+1)]\n",
    "            for word in time_words:\n",
    "                if word in context_words:\n",
    "                    i += C\n",
    "                    pass\n",
    "            yield context_words, center_word\n",
    "            i += 1\n"
   ]
  },
  {
   "attachments": {},
   "cell_type": "markdown",
   "metadata": {},
   "source": [
    "<h4> Get Time corpus 2 for BERTopic  </h4>\n",
    "\n",
    "Format: \n",
    "\n",
    "|index| url | substance    | classes   | center_word | doc | \n",
    "|----------------| ------------------------- | ------ | --------- | -------- | ------ |\n",
    "|5| https://erowid.org/experiences/... | 1p-lsd | Serotonergic psychedelics | time | I was talking around the ... |\n",
    "\n"
   ]
  },
  {
   "cell_type": "code",
   "execution_count": 19,
   "metadata": {},
   "outputs": [],
   "source": [
    "docs = []\n",
    "df2  = pd.DataFrame(columns = [\"index\", \"url\", \"substance\", \"classes\", \"seed\", \"docs\"])\n",
    "\n",
    "\n",
    "def create_docs_df2(C, docs):\n",
    "    for i, text in enumerate(df.text):\n",
    "        url = df.loc[i, \"url\"]\n",
    "        substance = df.loc[i, \"substance\"]\n",
    "        classes = df.loc[i, \"classes\"]\n",
    "        for context_words, center_word in modified_get_windows(text, C):\n",
    "            if center_word in time_words: \n",
    "                doc = \" \".join(context_words[0:C] + [center_word] + context_words[C:])\n",
    "                if doc not in docs: #remove duplicates\n",
    "                    docs.append(doc)\n",
    "                    df2.loc[len(df2.index)] = [i, url, substance, classes, center_word, doc]   \n",
    "\n",
    "\n",
    "C=15 #change context window size (C) here\n",
    "create_docs_df2(C, docs=docs)\n",
    "\n",
    "\n",
    "#save\n",
    "df2.to_pickle(\"BERTopic_df_C=\" + str(C) + \".pkl\")\n",
    "with open(\"BERTopic_docs_C=\" + str(C) + \".pkl\", \"wb\") as f:\n",
    "    pickle.dump(docs, f)\n"
   ]
  }
 ],
 "metadata": {
  "kernelspec": {
   "display_name": "base",
   "language": "python",
   "name": "python3"
  },
  "language_info": {
   "codemirror_mode": {
    "name": "ipython",
    "version": 3
   },
   "file_extension": ".py",
   "mimetype": "text/x-python",
   "name": "python",
   "nbconvert_exporter": "python",
   "pygments_lexer": "ipython3",
   "version": "3.10.9"
  },
  "orig_nbformat": 4,
  "vscode": {
   "interpreter": {
    "hash": "4ac408516564915e59f6571e8840a617524b2c5af7c094526d6726d37b65d83a"
   }
  }
 },
 "nbformat": 4,
 "nbformat_minor": 2
}
