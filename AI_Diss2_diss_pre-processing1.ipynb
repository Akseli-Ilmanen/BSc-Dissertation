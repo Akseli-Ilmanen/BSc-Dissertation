{
 "cells": [
  {
   "cell_type": "markdown",
   "id": "f9b87455",
   "metadata": {},
   "source": [
    "<h1> Pre-Processing 1 </h1>\n",
    "\n",
    "Currently, there are 38907 reports in the raw data. "
   ]
  },
  {
   "cell_type": "code",
   "execution_count": null,
   "id": "4d9d87b2",
   "metadata": {},
   "outputs": [],
   "source": [
    "#imports\n",
    "import pandas as pd\n",
    "\n",
    "df = pd.read_csv(\"raw_data_of_all_reports.csv\")"
   ]
  },
  {
   "cell_type": "markdown",
   "id": "a033c4b3",
   "metadata": {},
   "source": [
    "<h3> Exclusion of reports </h3>\n",
    "\n",
    "\n",
    "Some reports were included for the following reasons: \n",
    "- They redirected to other web domains, thus could not be scraped (n=70)\n",
    "- Reports were not available for viewing (n=1)\n",
    "- Multiple substances were consumed or individuals were sold the wrong substance (n=11,452) "
   ]
  },
  {
   "cell_type": "code",
   "execution_count": null,
   "id": "569d2a89",
   "metadata": {},
   "outputs": [],
   "source": [
    "exception_list = [\"1,4-Butanediol\", \"1,4 Butanediol\", \"2006 LSD Symposium, Basel\", \"Morning Glory (Heavenly Blue, extract)\"]\n",
    "\n",
    "for substance in df.substance:\n",
    "    if substance not in exception_list:\n",
    "        #typical string when multiple or the wrong substances were consumed\n",
    "        if \"&\" in substance or \"and\" in substance or \",\" in substance or \"/\" in substance or \"mistaken\" in substance or \"sold\" in substance:\n",
    "            index = df[df.substance == substance].index\n",
    "            df.drop(index, axis = 0, inplace = True)\n",
    "\n",
    "\n",
    "index = df[df.url == \"https://erowid.org/experiences/exp.php?ID=38705\"].index\n",
    "df.drop(index, axis = 0, inplace = True)\n"
   ]
  },
  {
   "cell_type": "markdown",
   "id": "fc525978",
   "metadata": {},
   "source": [
    "<h3> Categorizing substances and classes </h3>\n",
    "\n",
    "The substances categorization scheme by Sanz et al. (2018) and Martiala et al (2019) was used. See the supplementary information of Martiala et al. (2019) for this. This scheme includes: \n",
    "\n",
    "- 9 classes: Serotonergic psychedelics, Dissociative psychedelics, Entactogens, Deliriants, Depressant / sedatives, Stimulants, Oneirogens, Antidepressants / antipsychotics, Other\n",
    "\n",
    "- 161 substances (divided across those classes): see document \"substances_classes.csv\"\n",
    "\n",
    "\n",
    "\n",
    "<h6> References</h6> \n",
    "\n",
    "\n",
    "<h6> Sanz, C., Zamberlan, F., Erowid, E., Erowid, F., & Tagliazucchi, E. (2018). The Experience Elicited by Hallucinogens Presents the Highest Similarity to Dreaming within a Large Database of Psychoactive Substance Reports. Frontiers in Neuroscience, 12. https://www.frontiersin.org/articles/10.3389/fnins.2018.00007</h6> \n",
    "\n",
    "\n",
    "<h6> Martial, C., Cassol, H., Charland-Verville, V., Pallavicini, C., Sanz, C., Zamberlan, F., Vivot, R. M., Erowid, F., Erowid, E., Laureys, S., Greyson, B., & Tagliazucchi, E. (2019). Neurochemical models of near-death experiences: A large-scale study based on the semantic similarity of written reports. Consciousness and Cognition, 69, 52–69. https://doi.org/10.1016/j.concog.2019.01.011 </h6> \n",
    "\n",
    "<br>"
   ]
  },
  {
   "cell_type": "markdown",
   "id": "ca07755c",
   "metadata": {},
   "source": [
    "<h3> Type of consumption </h3>\n",
    "\n",
    "Substances can be consumed in a number of ways, i.e. smoking, edibles, tea. Text containing this information was removed as to better classify substances automatically."
   ]
  },
  {
   "cell_type": "code",
   "execution_count": null,
   "id": "788a531c",
   "metadata": {},
   "outputs": [],
   "source": [
    "\n",
    "df.substance = df.substance.str.lower()\n",
    "\n",
    "remove_words = [\" oral\",\" (oral)\",\n",
    "                \" edible\",\" (edible)\",\n",
    "                \" oil\",\" (oil)\",\n",
    "                \" smoked\",\" (smoked)\",\n",
    "                \" tea\",\" (tea)\",\n",
    "                \" seed\",\" (seed)\",\n",
    "                \" seeds\",\" (seeds)\",\n",
    "                \" leaf\",\" (leaf)\",\n",
    "                \" leaves\",\" (leaves)\",\n",
    "                \" powder\",\" (powder)\",\n",
    "                \" freebase\",\" (freebase)\", \" - freebase\",\n",
    "                \" blotter\", \" (blotter)\",\n",
    "                \" incense\", \" (incense)\",\n",
    "                \" xr\", \" (xr)\",\n",
    "                \" (extract)\", \" (cold water extract)\",\" (4x extract)\",\" (5x extract)\",\" (6x extract)\",\" (7x extract)\",\" (10x extract)\",\" (13x extract)\",\n",
    "                \" (15x extract)\",\" (20x extract)\",\" (21x extract)\",\" (24x extract)\",\" (25x extract)\",\" (30x extract)\",\" ('30x extract')\",\n",
    "                \" (32x extract)\",\" (35x extract)\",\" (40x extract)\",\" (45x extract)\",\" (80x extract)\",\" ('80x extract')\",\n",
    "                \" heavenly blue\",\" (heavenly blue)\",\" (heavenly blue, extract)\",\n",
    "                \" (xanax)\",\" - adderall\",\" (adderall)\",\" (adderall xr)\"\n",
    "                    ]\n",
    "\n",
    "for item in remove_words:\n",
    "    df.substance = df.substance.str.replace(item,  '', regex=False)"
   ]
  },
  {
   "cell_type": "markdown",
   "id": "ca07755c",
   "metadata": {},
   "source": [
    "<h3> Proper vs trade (slang) names </h3>\n",
    "\n",
    "Since authors on Erowid used both proper and slang names (with various spellings) for substances, a name dictionary was created to match slang names to the substance names used in the Martiala et al. (2019) classification. This dictionary was created semi-automatically and may not capture all the slang names, therefore some reports might have been excluded (next step), despite a substance from the Martiala et al .(2019) classification being used"
   ]
  },
  {
   "cell_type": "code",
   "execution_count": null,
   "id": "d4c80871",
   "metadata": {
    "scrolled": true
   },
   "outputs": [],
   "source": [
    "\n",
    "name_dict = { \n",
    "            \"lsd\":[\"2006 lsd symposium, basel\", \" lsd\"],\n",
    "            \"psilocybin mushrooms\":[\"psilocybin\", \"mushroom\", \"mushrooms\", \"mushroom - p. cubensis\", \"magic mushrooms\", \"magic mushrooms (sclerotia)\", \"'mushrooms'\", \"mushrooms  - p. cubensis\", \"mushrooms - c. cyanescens\", \"mushrooms - p cubensis\", \"mushrooms - p. arcana\", \"mushrooms - p. atlantis (sclerotia)\", 'mushrooms - p. azurescens', 'mushrooms - p. azurescens?', 'mushrooms - p. baeocystis', 'mushrooms - p. cubenesis', 'mushrooms - p. cubenesis (amazonian strain)', 'mushrooms - p. cubensis', 'mushrooms - p. cubensis (albino penis envy)', 'mushrooms - p. cubensis (amazon strain)', 'mushrooms - p. cubensis (cambodian)', \"mushrooms - p. cubensis ('cambodian')\", 'mushrooms - p. cubensis (dried)', 'mushrooms - p. cubensis (ecuadorean)', 'mushrooms - p. cubensis (extract)', 'mushrooms - p. cubensis (fresh)', 'mushrooms - p. cubensis (golden teacher)', 'mushrooms - p. cubensis (golden teachers)', 'mushrooms - p. cubensis (in chocolate)', 'mushrooms - p. cubensis (mexican)', 'mushrooms - p. cubensis (mycelium)', 'mushrooms - p. cubensis (penis envy)', 'mushrooms - p. cubensis (pes amazonia)', 'mushrooms - p. cubensis (sclerotia)', 'mushrooms - p. cubensis (smoked)', 'mushrooms - p. cubensis (tasmanian strain)', 'mushrooms - p. cyanescens', 'mushrooms - p. cyanescens (smoked)', 'mushrooms - p. galindoi', 'mushrooms - p. mexicana', 'mushrooms - p. mexicana (fresh)', 'mushrooms - p. mexicana (sclerotia)', 'mushrooms - p. mexicana (truffles)', 'mushrooms - p. ovoideocystidiata', 'mushrooms - p. semilanceata', 'mushrooms - p. subaeruginosa', 'mushrooms - p. subbalteatus or p. papilionaceus', 'mushrooms - p. tampanensis', 'mushrooms - p. tampanensis (sclerotia)', 'mushrooms - p. tampanensis (truffles)', 'mushrooms - p. weilii', 'mushrooms - p. zapotecorum', 'mushrooms - panaeolus cyanescens', 'mushrooms - panaeolus subbalteatus', 'mushrooms - psilocybe cyanescens', 'mushrooms (blue vein)', 'mushrooms (dried)', 'mushrooms (edible)', 'mushrooms (extract)', 'mushrooms (fresh)', \"mushrooms ('gold caps')\", 'mushrooms (golden caps)', 'mushrooms (hawaiian)', 'mushrooms (in chocolate)', 'mushrooms (magic mushrooms)', 'mushrooms (magic)', 'mushrooms (mexican)', \"mushrooms ('mexican')\", 'mushrooms (p. cubensis - mexican strain)', 'mushrooms (p. cubensis smoked)', 'mushrooms (p. cubensis)', 'mushrooms (p. cyanescens)', 'mushrooms (p. pelliculosa)', 'mushrooms (sclerotia)', 'mushrooms (smoked)', 'mushrooms (thai)', 'mushrooms- p. cubensis', 'mushroooms'],\n",
    "            \"cannabis spp.\":[\"cannabis\"],\n",
    "            \"morning glory\":[\"morning glorys\", \" morning glory\"],\n",
    "            \"mdma\":[\"mdma (ecstasy)\",\"methamphetamine\", \"ecstasy\", \"meth\"],\n",
    "            \"mitragyna speciosa\":[\"kratom\"],\n",
    "            \"myristica spp.\":[\"nutmeg\"],\n",
    "            \"datura spp.\":[\"datura\"],\n",
    "            \"amphetamine\":[\"amphetamines\"],\n",
    "            \"echinopsis pachanoi\":[\"cacti - t. pachanoi\"],\n",
    "            \"piper methysticum\":[\"kava\", \"kava kava\"],\n",
    "            \"alcohol (hard)\":[\"absinthe\", \"alcohol - hard\", \"alcohol (rum)\", \"alcohol (whiskey)\", \"alcohol (mead)\", \"alcohol (vodka)\", \"alcohol - (liquor)\", \"alcohol - (wine)\", \" alcohol - hard\", \"absinthe  (homemade)\", \"absinthe (czech)\", \"absinthe (homemade)\"],\n",
    "            \"alcohol (beer-wine)\":[\"beer\", \"wine\", \"alcohol - beer\", \"alcohol - wine\", \"alcohol (mead)\", \"alcohol - (wine)\", \"alcohol - (wine)\", \"alcohol - (wine)\"],\n",
    "            \"mephedrone\":[\"4-methylmethcathinone\", \"4-methylmethcathinone (mephedrone)\"],\n",
    "            \"zolpidem\":[\"ambien\", \"zolpidem (ambien)\", \" zolpidem (ambien)\"],\n",
    "            \"argyreia nervosa\":[\" h.b. woodrose\", \"h.b. woodrose seeds\", \"woodrose\", \"h.b. woodrose\", \"h. b. woodrose\", \"hawaiian baby woodrose seeds\", \"hawaiian baby woodrose seeds\", \"hawaiian baby woodrose seeds\", \"h.b. woodrose (hbw)\"],\n",
    "            \"nepeta cataria\":[\"catnip\"],\n",
    "            \"echinopsis peruviana\":[\"cacti - t. peruvianus\"],\n",
    "            \"amanita muscaria\":[\"4-methylmethcathinone\"],\n",
    "            \"brugmansia spp.\":[\"brugmansia\", \"brugmansia (tree datura)\", \"brugmansia sanguinea\", \"brugmansia suaveolens\"],\n",
    "            \"turnera diffusa\":[\"damiana\"],\n",
    "            \"nicotiana tabacum\":[\"tobacco\", \"tobacco - cigarettes\"],\n",
    "            \"tramadol\":[\"tramadol (ultram)\"],\n",
    "            \"nymphaea caerulea\":[\"“blue Lotus\"],\n",
    "            \"dimenhydrinate\":[\"dimenhydrinate (dramamine)\", \"dramamine (dimenhydrinate)\", \"dramamine (dimenhydrinate)\"],\n",
    "            \"papaver somniferum\":[\"poppies - opium\", \"poppies\", \"poppies\"],\n",
    "            \"oxycodone\":[\"oxycodone (oxycontin)\", \"oxycontin\", \"roxicodone\"],\n",
    "            \"lophophora williamsii\":[\"peyote\"],\n",
    "            \"hash\":[\"cannabis - hash\"],\n",
    "            \"acorus calamus\":[\"calamus\"],\n",
    "            \"ilex paraguariensis\":[\"yerba mate\"],\n",
    "            \"hypericum perforatum\":[\"st. john's wort\", \"st. john's wort\"],\n",
    "            \"dob-dragonfly\":[\"bromo-dragonfly\"],\n",
    "            \"coffea spp.\":[\"coffee\", \"caffeine (coffee)\", \"caffeine (coffee)\", \"caffeine (coffee)\", \"caffeine (coffee)\", \"caffeine (coffee)\"],\n",
    "            \"quetiapine\":[\"quetiapine (seroquel)\", \"seroquel\"],\n",
    "            \"gabapentin\":[\"gabapentin (neurontin)\", \"neurontin\"],\n",
    "            \"modafinil\":[\"modafinil (provigil)\", \"provigil\"],\n",
    "            \"venlafaxine\":[\" venlafaxine\", \"venlafaxine (effexor)\", \"effexor\"],\n",
    "            \"paroxetine\":[\"paroxetine (paxil)\", \"paxil\"],\n",
    "            \"bupropion\":[\"bupropion (wellbutrin)\", \"wellbutrin\"],\n",
    "            \"4-aco-det\":[\"4-Acetoxy-DET\"],\n",
    "            \"diphenhydramine\":[\"diphenhydramine (benadryl)\", \"benadryl\"],\n",
    "            \"triazolam\":[\"triazolam (halcion)\", \"halcion\"],\n",
    "            \"cocaine\":[\"coca\"],\n",
    "            \"nymphaea caerulea\":[\"blue lotus\"],\n",
    "            \"valeriana officinalis\":[\"valerian\"],\n",
    "            \"substituted piperazines\":[\"piperazines - bzp\", \"piperazines\", \"piperazines - mcpp\", \"piperazines - mcpp\", \"piperazines - mcpp\"],\n",
    "            \"silene undulata\":[\"silene capensis\"],\n",
    "            \"passiflora spp.\":[\"passion flower\"],\n",
    "            \"mimosahuasca\":[\"mimosa tenuiflora\", \"dmt (extracted from m. tenuiflora)\", \"dmt (extracted from m. tenuiflora)\"],\n",
    "            \"atropa belladonna\":[\"belladonna\"],\n",
    "            \"1,4-butanediol\":[\"1-4-butanediol\", \"1,4 butanediol\"],\n",
    "            \"remove:dont_fit_classification_but_contain_tricky_string\": [\"mipt\", \"det\", \" \", \"\"]\n",
    "            }\n",
    "\n",
    "\n",
    "for substance in df.substance:\n",
    "    for item in name_dict:\n",
    "        if substance in name_dict[item]:\n",
    "            index = df[df.substance == substance].index\n",
    "            df.substance.loc[index] = df.substance.loc[index].replace(substance,item)\n"
   ]
  },
  {
   "cell_type": "markdown",
   "id": "398a5baf",
   "metadata": {},
   "source": [
    "<h3> Further exclusion of reports </h3>\n",
    "\n",
    "Reports not matching the Martiala et al. (2019) classification were excluded (n=5,836)"
   ]
  },
  {
   "cell_type": "code",
   "execution_count": null,
   "id": "2b98e42d",
   "metadata": {},
   "outputs": [],
   "source": [
    "df2.propersubstance = df2.propersubstance.str.lower()\n",
    "\n",
    "for substance in df.substance: \n",
    "    if not any(df2.propersubstance.str.contains(substance, regex=False)):\n",
    "        index = df[df.substance == substance].index\n",
    "        df.drop(index, axis = 0, inplace = True)"
   ]
  },
  {
   "cell_type": "markdown",
   "id": "398a5baf",
   "metadata": {},
   "source": [
    "<h3> Classes </h3>\n",
    "\n",
    "Adding classes matching to each substance to dataframe"
   ]
  },
  {
   "cell_type": "code",
   "execution_count": null,
   "id": "48a11e87",
   "metadata": {},
   "outputs": [],
   "source": [
    "df2 = pd.read_csv(\"substances_classes.csv\")\n",
    "\n",
    "df.insert(3, \"classes\", \"\")\n",
    "\n",
    "for substance in df.substance:\n",
    "    for item in df2.propersubstance:\n",
    "        if substance == item:\n",
    "            index = df[df.substance == substance].index\n",
    "            df.classes.loc[index] = df2.loc[df2.propersubstance==item,'classes'].values[0]\n"
   ]
  },
  {
   "cell_type": "markdown",
   "id": "2681e301",
   "metadata": {},
   "source": [
    "<h3> Saving data </h3>\n",
    "\n",
    "After pre-processing 1, there were 21548 reports left, saved in the following format:\n",
    "\n",
    "![](2022-12-06-16-53-12.png)"
   ]
  },
  {
   "cell_type": "code",
   "execution_count": null,
   "id": "92f57c2a",
   "metadata": {
    "scrolled": true
   },
   "outputs": [],
   "source": [
    "#save formatted data\n",
    "\n",
    "df = df.sort_values(by=[\"substance\"])\n",
    "df.reset_index(drop=True, inplace=True)\n",
    "\n",
    "df.to_excel(\"complete_processed_data.xlsx\")"
   ]
  }
 ],
 "metadata": {
  "kernelspec": {
   "display_name": "Python 3.9.12 ('base')",
   "language": "python",
   "name": "python3"
  },
  "language_info": {
   "codemirror_mode": {
    "name": "ipython",
    "version": 3
   },
   "file_extension": ".py",
   "mimetype": "text/x-python",
   "name": "python",
   "nbconvert_exporter": "python",
   "pygments_lexer": "ipython3",
   "version": "3.9.12"
  },
  "vscode": {
   "interpreter": {
    "hash": "4ac408516564915e59f6571e8840a617524b2c5af7c094526d6726d37b65d83a"
   }
  }
 },
 "nbformat": 4,
 "nbformat_minor": 5
}
