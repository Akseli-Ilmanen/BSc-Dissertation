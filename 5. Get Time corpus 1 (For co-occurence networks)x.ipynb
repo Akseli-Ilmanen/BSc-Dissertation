{
 "cells": [
  {
   "cell_type": "markdown",
   "metadata": {},
   "source": [
    "<h1> Get Time corpus 1 (Co-occurence networks only) </h1>\n",
    "\n"
   ]
  },
  {
   "cell_type": "code",
   "execution_count": null,
   "metadata": {},
   "outputs": [],
   "source": [
    "#imports\n",
    "import pandas as pd\n",
    "import pickle\n",
    "import numpy as np\n",
    "from collections import Counter, OrderedDict\n",
    "from wordcloud import WordCloud, STOPWORDS\n",
    "import matplotlib.pyplot as plt"
   ]
  },
  {
   "cell_type": "markdown",
   "metadata": {},
   "source": [
    "<h4> Data after Pre-Processing 1 and 2 </h4>\n",
    "\n",
    "Variables: \n",
    "- df = Dataframe with information about title, substance, class, url, text of each report\n",
    "- corpus_list = List of all the report texts concatenated "
   ]
  },
  {
   "cell_type": "code",
   "execution_count": null,
   "metadata": {},
   "outputs": [],
   "source": [
    "df = pd.read_pickle(\"processed_data_3.pkl\")\n",
    "\n",
    "\n",
    "corpus_list = []\n",
    "for text in df.text:\n",
    "    corpus_list += text"
   ]
  },
  {
   "attachments": {},
   "cell_type": "markdown",
   "metadata": {},
   "source": [
    "<h4> Seed time perception words </h4>\n",
    "\n",
    "- These words act as 'seeds' in the Erowid corpus. Words surrounding the seed might describe information about time perception. "
   ]
  },
  {
   "cell_type": "code",
   "execution_count": null,
   "metadata": {},
   "outputs": [],
   "source": [
    "ntp_words = ['time', 'period', 'periods', 'duration', 'clock', 'temporal', 'spacetime', 'timespan', 'timespans', 'timeline', 'timelines', 'elapse', 'elapsed', 'length', 'timewise', 'velocity', 'pace', 'rate', 'tempo', 'pass', 'passing', 'passed']\n",
    "ftp_words = ['quick','quicker', 'quickly', 'quickest', 'fast', 'faster', 'fastest', 'fastened', 'rapid','rapidly', 'short', 'shorter', 'shortly', 'shortest','speedy', 'speedy','speeded', 'speedier', 'hurry', 'hurried', 'swift', 'swifter', 'swiftly', 'haste', 'hasty', 'brisk', 'turbo', 'accelerate', 'acceleration', 'accelerated', 'accelerating']\n",
    "stp_words = ['slow', 'slower', 'slowly', 'slows', 'slowed', 'slowest', 'slowing', 'slowdown', 'long', 'looong', 'longer', 'longer', 'longest', 'steady', 'deceleration', 'decelerate', 'decelerating', 'decelerated', 'dilatory', 'dilation', 'infinity', 'eternity', 'lengthy', 'prolonged', 'protracted', 'extended', 'unending', 'endless']\n",
    "time_words = sorted(ntp_words + ftp_words + stp_words)\n"
   ]
  },
  {
   "cell_type": "markdown",
   "metadata": {},
   "source": [
    "<h4> Get context window function </h4>\n",
    "\n",
    "- Used to iterate through a list and yield C words before and after each seed word."
   ]
  },
  {
   "cell_type": "code",
   "execution_count": null,
   "metadata": {},
   "outputs": [],
   "source": [
    "# Get context window function for time_words\n",
    "def get_windows(words, C):\n",
    "    i = C\n",
    "    while i < len(words) - C:\n",
    "        center_word = words[i]\n",
    "        if center_word not in time_words:\n",
    "            i += 1\n",
    "            pass\n",
    "        else:\n",
    "            context_words = words[(i - C):i] + words[(i+1):(i+C+1)]\n",
    "            yield context_words, center_word\n",
    "            i += 1"
   ]
  },
  {
   "cell_type": "markdown",
   "metadata": {},
   "source": [
    "<h4> SHOULD I USE: Modified get context window (CW) function </h4>\n",
    "\n",
    "In some context windows, there are multiple time_words. E.g.:\n",
    "\n",
    "*\"(...)to my exceptional set and setting. later on in the future .god knows how long because time was passing so fast. i was talking to my friend t on the couch that i had yet to leave(...)\"*\n",
    "\n",
    "The modified get CW function skips over any seed words (time words), if those time words are in the context window after the intial seed word ('center_word')."
   ]
  },
  {
   "cell_type": "code",
   "execution_count": null,
   "metadata": {},
   "outputs": [],
   "source": [
    "# Modified get context window function for time_words\n",
    "def modified_get_windows(words, C):\n",
    "    i = C\n",
    "    while i < len(words) - C:\n",
    "        center_word = words[i]\n",
    "        if center_word not in time_words:\n",
    "            i += 1\n",
    "            pass\n",
    "        else:\n",
    "            context_words = words[(i - C):i] + words[(i+1):(i+C+1)]\n",
    "            for word in time_words:\n",
    "                if word in context_words:\n",
    "                    i += C\n",
    "                    pass\n",
    "            yield context_words, center_word\n",
    "            i += 1\n"
   ]
  },
  {
   "cell_type": "markdown",
   "metadata": {},
   "source": [
    "<h4> Context window examples </h4>\n",
    "\n",
    "- Get context window and report url for specific time seed words. \n",
    "\n",
    "- Line 7 can be adjusted to get the context windows for specific seed or context words. Very useful for understanding nodes in the co-occurence network graph (later)."
   ]
  },
  {
   "cell_type": "code",
   "execution_count": null,
   "metadata": {},
   "outputs": [],
   "source": [
    "#co-occurences in context window examples\n",
    "\n",
    "listx = []\n",
    "\n",
    "\n",
    "def context_words_edges_vertices(C, listx):\n",
    "    for i, text in enumerate(df.text):\n",
    "        url = df.loc[i, \"url\"]\n",
    "        for context_words, center_word in get_windows(text, C):\n",
    "            #can look for specific words\n",
    "            if \"eskimo\" in context_words: # line 7\n",
    "                print(context_words[0:C])\n",
    "                print(center_word)\n",
    "                print(context_words[C:])\n",
    "                print(url)\n",
    "                print(\"\\n\")\n",
    "                listx += context_words\n",
    "\n",
    "context_words_edges_vertices(C=10, listx=listx)\n",
    "\n"
   ]
  },
  {
   "cell_type": "markdown",
   "metadata": {},
   "source": [
    "<h4> Get all co-occurences in Time corpus  </h4>\n",
    "\n",
    "- Time corpus = All context windows seeded by all time words.\n",
    "\n",
    "- Get all pairs of word-occurence in each context window in the Time corpus. \n",
    "\n",
    "- Pairs stored in dataframe (df2) in the following format:\n",
    "\n",
    "    | classes                   | seed   | source    | tagert   | weight | colourbias     |\n",
    "    | ------------------------- | ------ | --------- | -------- | ------ | ---- |\n",
    "    | Serotonergic psychedelics | slowly | periphery | abstract | 1      | -0.1 |\n",
    "\n",
    "<br>\n",
    "\n",
    "- The colourbias quantifies whether the seed word is a ntp, ftp, or stp. This score is used for visulization later. "
   ]
  },
  {
   "cell_type": "code",
   "execution_count": null,
   "metadata": {},
   "outputs": [],
   "source": [
    "%%time\n",
    "#co-occurence network - edges\n",
    "def context_words_edges_vertices(C):\n",
    "    #splitting the dataframe into parts and saving locally reduces memory load on juypter notebook and speeds up code significantly\n",
    "    for k in range(216): #adjust 216 - in my case reports = 21,548, so 100*216 = 21,600\n",
    "        print(k)\n",
    "        df2  = pd.DataFrame(columns = [\"classes\", \"seed\", \"source\", \"target\", \"colourbias\"])\n",
    "        for i, text in enumerate(df.text[k*100:(k+1)*100]): \n",
    "            classes = df.loc[i, \"classes\"]\n",
    "            for context_words, center_word in get_windows(text, C):\n",
    "                if center_word in ntp_words:\n",
    "                    all_pairs = [(a, b) for idx, a in enumerate(context_words) for b in context_words[idx + 1:]]\n",
    "                    for a, b in all_pairs:\n",
    "                        df2.loc[len(df2.index)] = [classes, center_word, a, b, 0]   \n",
    "                elif center_word in ftp_words:\n",
    "                    all_pairs = [(a, b) for idx, a in enumerate(context_words) for b in context_words[idx + 1:]]\n",
    "                    for a, b in all_pairs:\n",
    "                        df2.loc[len(df2.index)] = [classes, center_word, a, b, 1]\n",
    "                elif center_word in stp_words:\n",
    "                    all_pairs = [(a, b) for idx, a in enumerate(context_words) for b in context_words[idx + 1:]]\n",
    "                    for a, b in all_pairs:\n",
    "                        df2.loc[len(df2.index)] = [classes, center_word, a, b, -1]    \n",
    "        df2.to_pickle(\"timecorpus\" + str(k) + \".pkl\")\n",
    "\n",
    "    \n",
    "\n",
    "#adjust context window C\n",
    "context_words_edges_vertices(C=4)\n",
    "\n",
    "\n",
    "#concatenate dataframe parts\n",
    "df2  = pd.DataFrame(columns = [\"classes\", \"seed\", \"source\", \"target\", \"colourbias\"])\n",
    "for k in range(216):\n",
    "    temp = pd.read_pickle(\"timecorpus\" + str(k) + \".pkl\")\n",
    "    df2 = pd.concat([df2, temp], axis=0)\n",
    "\n",
    "\n",
    "#Save file\n",
    "#keep \"timecorpus.pkl\", delete timecorpus0-215.pkl\n",
    "df2.to_pickle(\"timecorpus_C4.pkl\")"
   ]
  }
 ],
 "metadata": {
  "language_info": {
   "name": "python"
  },
  "orig_nbformat": 4
 },
 "nbformat": 4,
 "nbformat_minor": 2
}
