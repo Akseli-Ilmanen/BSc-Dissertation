{
 "cells": [
  {
   "attachments": {},
   "cell_type": "markdown",
   "id": "6b7f515c",
   "metadata": {},
   "source": [
    "<h1> Erowid Data Collection </h1>\n",
    "\n",
    "Raw data found from: https://erowid.org/experiences/\n",
    "\n",
    "<h6> Erowid E, Erowid F. \"The Value of Experience\". Erowid Extracts. Jun 2006;10:14-19. </h1>\n",
    "\n",
    "<br>\n",
    "\n",
    "<h3> Table of all reports </h3>\n",
    "\n",
    "You can find a webpage with a table of all the Erowid reports with the url below by setting the 'Max=' to above the number of reports in the Erowid Database. In my case, there were 38907 reports (scraped 10/11/2022 - 12/11/2022), so I set to 40000.\n",
    "\n",
    "https://erowid.org/experiences/exp.cgi?ShowViews=0&Cellar=0&Start=0&Max=40000\n",
    "\n",
    "<br>\n",
    "\n",
    "<h3> Web Scraping </h3>\n",
    "\n",
    "The code below scrapes the title, url and substance of each row from the table above. (Author and publication date are not scraped for anonymity reasons). Each url leads to a report page. The main document text of this page is scraped.\n",
    "\n",
    "The title, substances used, url, and document text is saved in a dataframe (df).\n",
    "\n",
    "<br>\n",
    "\n",
    "**Note**: This code took more than 48h to run. It could probably be optimized in several ways."
   ]
  },
  {
   "cell_type": "code",
   "execution_count": null,
   "id": "bcc03d74",
   "metadata": {},
   "outputs": [],
   "source": [
    "from bs4 import BeautifulSoup as bs\n",
    "import requests\n",
    "import pandas as pd"
   ]
  },
  {
   "cell_type": "code",
   "execution_count": null,
   "id": "ce18f45e",
   "metadata": {},
   "outputs": [],
   "source": [
    "#table\n",
    "erowid = requests.get(\"https://erowid.org/experiences/exp.cgi?ShowViews=0&Cellar=0&Start=0&Max=40000\").text\n",
    "\n",
    "soup = bs(erowid, \"html.parser\")\n",
    "\n",
    "table = soup.find_all(\"tr\")[8:-7]"
   ]
  },
  {
   "cell_type": "code",
   "execution_count": null,
   "id": "00405d93",
   "metadata": {},
   "outputs": [],
   "source": [
    "#scrape text from single page\n",
    "def scrape_page(url):\n",
    "    page = requests.get(url).text\n",
    "    soup = bs(page, \"html.parser\")\n",
    "    #delete tables above and below main text\n",
    "    delete_tables = soup.findAll(\"table\")\n",
    "    for delete_table in delete_tables:\n",
    "        delete_table.decompose()\n",
    "    # reports not available for viewing    \n",
    "    if not \"This report is not available for viewing\" in soup.text:\n",
    "        text = soup.find(class_=\"report-text-surround\").text\n",
    "        return text\n"
   ]
  },
  {
   "cell_type": "code",
   "execution_count": null,
   "id": "e0162f7a",
   "metadata": {
    "scrolled": true
   },
   "outputs": [],
   "source": [
    "#create df from scraped data\n",
    "df = pd.DataFrame(columns=[\"title\", \"substance\", \"url\", \"text\"])\n",
    "\n",
    "\n",
    "for i in range(0,len(table)):\n",
    "        print(i)\n",
    "        row = table[i]\n",
    "        title = row.a.text\n",
    "        substance = row.findAll(\"td\")[3].text\n",
    "        report_url = \"https://erowid.org/experiences/\"+row.a.get(\"href\")\n",
    "        actual_url = requests.head(report_url, allow_redirects=True).url\n",
    "        #some urls redirected to other webpages, these were excluded \n",
    "        if actual_url == report_url:\n",
    "            text = scrape_page(report_url)\n",
    "            df.loc[i] = [title, substance, report_url, text]\n",
    "\n",
    "#save as CSV (so can be inspected in Excel)\n",
    "df.to_csv('raw_data_of_all_reports.csv')"
   ]
  }
 ],
 "metadata": {
  "kernelspec": {
   "display_name": "Python 3.9.12 ('base')",
   "language": "python",
   "name": "python3"
  },
  "language_info": {
   "codemirror_mode": {
    "name": "ipython",
    "version": 3
   },
   "file_extension": ".py",
   "mimetype": "text/x-python",
   "name": "python",
   "nbconvert_exporter": "python",
   "pygments_lexer": "ipython3",
   "version": "3.9.12 (main, Apr  4 2022, 05:22:27) [MSC v.1916 64 bit (AMD64)]"
  },
  "vscode": {
   "interpreter": {
    "hash": "4ac408516564915e59f6571e8840a617524b2c5af7c094526d6726d37b65d83a"
   }
  }
 },
 "nbformat": 4,
 "nbformat_minor": 5
}
